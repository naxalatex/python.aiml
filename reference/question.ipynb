{
 "cells": [
  {
   "cell_type": "markdown",
   "id": "951db7d5",
   "metadata": {},
   "source": [
    "Indentation in Python refers to the use of whitespace (spaces or tabs) at the beginning of  a  line. it is important because it if we miss one indention it will affect the whole the process of the code.\n"
   ]
  },
  {
   "cell_type": "markdown",
   "id": "76d32028",
   "metadata": {},
   "source": [
    "syntax errors occurs when you type the code wrong. it will be shown with underlibnes in red. runtime errors occurs when the code is running and it will stop the process of the code mid. small mistake can cause a disrupt the process of the code."
   ]
  },
  {
   "cell_type": "markdown",
   "id": "c3261dff",
   "metadata": {},
   "source": [
    "we assign values to vairables by using equals sign.\n",
    "mutable data type can be changed after it is created like dictionary and list. immutable cannot changed because it is fixed value like tuple"
   ]
  },
  {
   "cell_type": "markdown",
   "id": "bbf69801",
   "metadata": {},
   "source": [
    "lambda is function that can be used once. it useful for a simple function for a short period of time."
   ]
  },
  {
   "cell_type": "code",
   "execution_count": 1,
   "id": "19a83880",
   "metadata": {},
   "outputs": [
    {
     "name": "stdout",
     "output_type": "stream",
     "text": [
      "{'name': 'sidharth', 'age': '18', 'city': 'eranakulam'}\n"
     ]
    }
   ],
   "source": [
    "my_dict={'name':'sidharth','age':'18','city':'eranakulam'}\n",
    "print(my_dict)"
   ]
  },
  {
   "cell_type": "code",
   "execution_count": 6,
   "id": "e5cfa181",
   "metadata": {},
   "outputs": [
    {
     "name": "stdout",
     "output_type": "stream",
     "text": [
      "Area of rectangle is 24\n"
     ]
    }
   ],
   "source": [
    "length = int(input(\"Enter length: \"))\n",
    "width = int(input(\"Enter width: \"))\n",
    "area = length * width\n",
    "print(\"Area of rectangle is\", area)"
   ]
  },
  {
   "cell_type": "code",
   "execution_count": 7,
   "id": "273b8a85",
   "metadata": {},
   "outputs": [
    {
     "name": "stdout",
     "output_type": "stream",
     "text": [
      "150\n"
     ]
    }
   ],
   "source": [
    "s = \"50\"\n",
    "result = int(s) + 100\n",
    "print(result)  # prints 150"
   ]
  },
  {
   "cell_type": "code",
   "execution_count": 10,
   "id": "ddc05f5f",
   "metadata": {},
   "outputs": [
    {
     "name": "stdout",
     "output_type": "stream",
     "text": [
      "(1, 2, 3, 4)\n"
     ]
    },
    {
     "ename": "TypeError",
     "evalue": "'tuple' object does not support item assignment",
     "output_type": "error",
     "traceback": [
      "\u001b[31m---------------------------------------------------------------------------\u001b[39m",
      "\u001b[31mTypeError\u001b[39m                                 Traceback (most recent call last)",
      "\u001b[36mCell\u001b[39m\u001b[36m \u001b[39m\u001b[32mIn[10]\u001b[39m\u001b[32m, line 3\u001b[39m\n\u001b[32m      1\u001b[39m s = (\u001b[32m1\u001b[39m,\u001b[32m2\u001b[39m,\u001b[32m3\u001b[39m,\u001b[32m4\u001b[39m)\n\u001b[32m      2\u001b[39m \u001b[38;5;28mprint\u001b[39m(s)\n\u001b[32m----> \u001b[39m\u001b[32m3\u001b[39m \u001b[43ms\u001b[49m\u001b[43m[\u001b[49m\u001b[32;43m1\u001b[39;49m\u001b[43m]\u001b[49m=\u001b[32m10\u001b[39m\n\u001b[32m      4\u001b[39m \u001b[38;5;28mprint\u001b[39m(s)\n",
      "\u001b[31mTypeError\u001b[39m: 'tuple' object does not support item assignment"
     ]
    }
   ],
   "source": [
    "s = (1,2,3,4)\n",
    "print(s)\n",
    "s[1]=10\n",
    "print(s)\n",
    "#it happens because ruples are immutable"
   ]
  },
  {
   "cell_type": "code",
   "execution_count": 12,
   "id": "580b88ea",
   "metadata": {},
   "outputs": [
    {
     "name": "stdout",
     "output_type": "stream",
     "text": [
      "True\n",
      "False\n"
     ]
    }
   ],
   "source": [
    "def is_prime(n):\n",
    "    if n <= 1:\n",
    "        return False\n",
    "    for i in range(2, n):\n",
    "        if n % i == 0:\n",
    "            break\n",
    "    else:\n",
    "        return True\n",
    "    return False\n",
    "print(is_prime(11))\n",
    "print(is_prime(6))  \n"
   ]
  },
  {
   "cell_type": "code",
   "execution_count": 14,
   "id": "54ad6cd1",
   "metadata": {},
   "outputs": [
    {
     "name": "stdout",
     "output_type": "stream",
     "text": [
      "True\n",
      "False\n"
     ]
    }
   ],
   "source": [
    "def is_palindrome(v):\n",
    "    return v == v[::-1]\n",
    "print(is_palindrome(\"anna\"))\n",
    "print(is_palindrome('sir'))"
   ]
  },
  {
   "cell_type": "code",
   "execution_count": 16,
   "id": "2b5279fa",
   "metadata": {},
   "outputs": [
    {
     "name": "stdout",
     "output_type": "stream",
     "text": [
      "5\n",
      "-1\n",
      "20\n",
      "2.0\n"
     ]
    }
   ],
   "source": [
    "class calculator:\n",
    "    def add(self,a,b):\n",
    "        return a+b\n",
    "    def subtract(self,a,b):\n",
    "        return a-b\n",
    "    def multiply(self,a,b):\n",
    "        return a*b\n",
    "    def divide(self,a,b):\n",
    "        if b==0:\n",
    "            return \"error\"\n",
    "        return a/b\n",
    "print(calculator().add(2,3))\n",
    "print(calculator().subtract(2,3))\n",
    "print(calculator().multiply(4,5))\n",
    "print(calculator().divide(4,2))"
   ]
  },
  {
   "cell_type": "code",
   "execution_count": 18,
   "id": "0497972f",
   "metadata": {},
   "outputs": [
    {
     "name": "stdout",
     "output_type": "stream",
     "text": [
      "even\n"
     ]
    }
   ],
   "source": [
    "a = int(input(\"enter a number\"))\n",
    "if  a%2==0:\n",
    "    print(\"even\")\n",
    "else:\n",
    "    print(\"odd\")"
   ]
  },
  {
   "cell_type": "code",
   "execution_count": null,
   "id": "d072e59a",
   "metadata": {},
   "outputs": [],
   "source": [
    "def reverse_number(n):\n",
    "    reversed_num = 0\n",
    "    negative = n < 0\n",
    "    n = abs(n)\n",
    "    while n > 0:\n",
    "        digit = n % 10\n",
    "        reversed_num = reversed_num * 10 + digit\n",
    "        n = n // 10\n",
    "    if negative:\n",
    "        reversed_num = -reversed_num\n",
    "    return reversed_num\n",
    "print(reverse_number(12345))\n",
    "print(reverse_number(-678))   \n"
   ]
  },
  {
   "cell_type": "code",
   "execution_count": 19,
   "id": "5a05d06d",
   "metadata": {},
   "outputs": [
    {
     "name": "stdout",
     "output_type": "stream",
     "text": [
      "The result of 100 divided by 798 is 0.12531328320802004\n",
      "Program execution completed.\n"
     ]
    }
   ],
   "source": [
    "try:\n",
    "    n = int(input(\"Enter a number to divide 100 by: \"))\n",
    "    r = 100 / n\n",
    "except ValueError:\n",
    "    print(\"Invalid input! Please enter an integer.\")\n",
    "except ZeroDivisionError:\n",
    "    print(\"Cannot divide by zero!\")\n",
    "else:\n",
    "    print(f\"The result of 100 divided by {n} is {r}\")\n",
    "finally:\n",
    "    print(\"Program execution completed.\")\n"
   ]
  }
 ],
 "metadata": {
  "kernelspec": {
   "display_name": "eenv",
   "language": "python",
   "name": "python3"
  },
  "language_info": {
   "codemirror_mode": {
    "name": "ipython",
    "version": 3
   },
   "file_extension": ".py",
   "mimetype": "text/x-python",
   "name": "python",
   "nbconvert_exporter": "python",
   "pygments_lexer": "ipython3",
   "version": "3.13.7"
  }
 },
 "nbformat": 4,
 "nbformat_minor": 5
}
