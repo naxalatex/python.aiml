{
 "cells": [
  {
   "cell_type": "code",
   "execution_count": 22,
   "id": "f8bec5fb",
   "metadata": {},
   "outputs": [
    {
     "name": "stdout",
     "output_type": "stream",
     "text": [
      "* \n",
      "* * \n",
      "* * * \n",
      "* * * * \n"
     ]
    }
   ],
   "source": [
    "c = \"*\"\n",
    "for i  in range (1,5):\n",
    "    for j in range (1,i+1):\n",
    "        print(c,end=\" \")\n",
    "    print()"
   ]
  },
  {
   "cell_type": "code",
   "execution_count": null,
   "id": "aab5b060",
   "metadata": {},
   "outputs": [
    {
     "name": "stdout",
     "output_type": "stream",
     "text": [
      "1\n",
      "12\n",
      "123\n",
      "1234\n",
      "12345\n"
     ]
    }
   ],
   "source": [
    "for i in range(1, 6):\n",
    "    for j in range(1, i + 1):\n",
    "        print(j, end=\" \")\n",
    "    print()\n"
   ]
  },
  {
   "cell_type": "code",
   "execution_count": 3,
   "id": "6ddea2e6",
   "metadata": {},
   "outputs": [
    {
     "name": "stdout",
     "output_type": "stream",
     "text": [
      "even\n"
     ]
    }
   ],
   "source": [
    "a = int(input(\"enter a number\"))\n",
    "if a % 2 == 0:\n",
    "    print (\"even\")\n",
    "elif  a % 1 == 0:\n",
    "        print (\"odd\")"
   ]
  },
  {
   "cell_type": "code",
   "execution_count": 5,
   "id": "5d7bf63f",
   "metadata": {},
   "outputs": [
    {
     "name": "stdout",
     "output_type": "stream",
     "text": [
      "432\n"
     ]
    }
   ],
   "source": [
    "a = input(\"enter a number\")\n",
    "print(a[::-1])"
   ]
  },
  {
   "cell_type": "code",
   "execution_count": 6,
   "id": "62ddd4f9",
   "metadata": {},
   "outputs": [
    {
     "data": {
      "text/plain": [
       "9"
      ]
     },
     "execution_count": 6,
     "metadata": {},
     "output_type": "execute_result"
    }
   ],
   "source": [
    "d = [1,2,3,4,5,6,7,8,9,]\n",
    "max(d)\n"
   ]
  },
  {
   "cell_type": "code",
   "execution_count": 3,
   "id": "e981b8a4",
   "metadata": {},
   "outputs": [
    {
     "name": "stdout",
     "output_type": "stream",
     "text": [
      "helloboom\n"
     ]
    }
   ],
   "source": [
    "def  word(n):\n",
    " print (\"hello\"+n)\n",
    "word(\"boom\")\n"
   ]
  },
  {
   "cell_type": "code",
   "execution_count": null,
   "id": "c2e39e28",
   "metadata": {},
   "outputs": [
    {
     "name": "stdout",
     "output_type": "stream",
     "text": [
      "7\n"
     ]
    }
   ],
   "source": [
    "def add(a,b):\n",
    "    return a+b\n",
    "print(add(2,3))\n",
    "\n"
   ]
  },
  {
   "cell_type": "code",
   "execution_count": 8,
   "id": "f04a3fe4",
   "metadata": {},
   "outputs": [
    {
     "name": "stdout",
     "output_type": "stream",
     "text": [
      "36\n"
     ]
    }
   ],
   "source": [
    "def sqrt(m,n):\n",
    "    return m*n\n",
    "print(sqrt(9,4))"
   ]
  },
  {
   "cell_type": "code",
   "execution_count": 20,
   "id": "0d8c5413",
   "metadata": {},
   "outputs": [
    {
     "name": "stdout",
     "output_type": "stream",
     "text": [
      "10\n"
     ]
    }
   ],
   "source": [
    "def a(sum):\n",
    "    return sum\n",
    "def add(a,b):\n",
    " c = a+b\n",
    " return c\n",
    "print(add(5,5))    \n",
    "    \n"
   ]
  },
  {
   "cell_type": "code",
   "execution_count": 23,
   "id": "eff34b28",
   "metadata": {},
   "outputs": [
    {
     "name": "stdout",
     "output_type": "stream",
     "text": [
      "6\n"
     ]
    }
   ],
   "source": [
    "def fact(n):\n",
    "    if n==0 or n==1:\n",
    "        return 1\n",
    "    else:\n",
    "     return n*fact(n-1)\n",
    "print(fact(3))             "
   ]
  },
  {
   "cell_type": "code",
   "execution_count": 35,
   "id": "67f3e6ea",
   "metadata": {},
   "outputs": [
    {
     "name": "stdout",
     "output_type": "stream",
     "text": [
      "[0, 2, 4, 6, 8, 10]\n"
     ]
    }
   ],
   "source": [
    "a = [i for i in range (12)  if i%2==0]\n",
    "print(a)"
   ]
  },
  {
   "cell_type": "code",
   "execution_count": null,
   "id": "1fbcefc0",
   "metadata": {},
   "outputs": [
    {
     "name": "stdout",
     "output_type": "stream",
     "text": [
      "['banana', 'grapefruit']\n"
     ]
    }
   ],
   "source": [
    "words =  [\"apple\",\"banana\", \"kiwi\",\"grapefruit\"]\n",
    "words = [i  for i in words if len(i)>5]\n",
    "print(words)"
   ]
  },
  {
   "cell_type": "code",
   "execution_count": 41,
   "id": "aa1d540a",
   "metadata": {},
   "outputs": [
    {
     "name": "stdout",
     "output_type": "stream",
     "text": [
      "['john', 'jane']\n"
     ]
    }
   ],
   "source": [
    "s = [{\"name\":\"john\",\"age\":18},\n",
    "     {\"name\": \"jane\",\"age\":20}]\n",
    "\n",
    "list1 = [i[\"name\"] for i in s]\n",
    "print(list1)\n"
   ]
  },
  {
   "cell_type": "code",
   "execution_count": 5,
   "id": "2f30a129",
   "metadata": {},
   "outputs": [
    {
     "name": "stdout",
     "output_type": "stream",
     "text": [
      "[[1, 2, 3], [4, 5, 6], [7, 8, 9]]\n",
      "[[1, 2, 3], [4, 5, 6], [7, 8, 9]]\n",
      "[[1, 2, 3], [4, 5, 6], [7, 8, 9]]\n"
     ]
    }
   ],
   "source": [
    "i =  [ [1,2,3],[4,5,6],[7,8,9]]\n",
    "list = i \n",
    "for i  in s:\n",
    " print(list)"
   ]
  },
  {
   "cell_type": "code",
   "execution_count": 3,
   "id": "8eab30bc",
   "metadata": {},
   "outputs": [
    {
     "name": "stdout",
     "output_type": "stream",
     "text": [
      "25\n"
     ]
    }
   ],
   "source": [
    "y = 20 #global variable\n",
    "def add_five():\n",
    "    return y+5\n",
    "print(add_five())"
   ]
  },
  {
   "cell_type": "code",
   "execution_count": 10,
   "id": "8b898925",
   "metadata": {},
   "outputs": [
    {
     "name": "stdout",
     "output_type": "stream",
     "text": [
      "10\n"
     ]
    }
   ],
   "source": [
    "def add():\n",
    " x = 5 #local variable \n",
    " result  = 5+x   \n",
    " return result\n",
    " print(x)\n",
    "print(add())"
   ]
  },
  {
   "cell_type": "code",
   "execution_count": 50,
   "id": "59ad1c35",
   "metadata": {},
   "outputs": [
    {
     "name": "stdout",
     "output_type": "stream",
     "text": [
      "17\n"
     ]
    }
   ],
   "source": [
    "class A:\n",
    "    def __init__(self):\n",
    "        pass\n",
    "    \n",
    "    def add(self, d, c):\n",
    "        return d + c\n",
    "\n",
    "n = A()\n",
    "print(n.add(9, 8))   # output: 17\n",
    "\n",
    "\n",
    "  "
   ]
  },
  {
   "cell_type": "code",
   "execution_count": 57,
   "id": "9f4e86a0",
   "metadata": {},
   "outputs": [],
   "source": [
    "class student:\n",
    "    def  __init__(self,name,mark,age):\n",
    "        self.name = name\n",
    "        self.__mark = mark\n",
    "        self.age = age\n",
    "    def s(self):\n",
    "            self.name = \"sidharth\"\n",
    "            self.__mark = 90\n",
    "            self.age = 18 \n",
    "    def display (self):\n",
    "      print(f\"my name is {self.name} my age is {self.age} and my mark {self.__mark}\")\n"
   ]
  },
  {
   "cell_type": "code",
   "execution_count": 60,
   "id": "aa48448c",
   "metadata": {},
   "outputs": [],
   "source": [
    "#abstract class\n",
    "from abc import ABC, abstractmethod\n",
    "class math(ABC):\n",
    "    @abstractmethod\n",
    "    def start(self):\n",
    "        pass\n",
    "class square(math):\n",
    "    def v(self):\n",
    "        return self.a*self.a\n",
    "    \n",
    "    \n",
    "    \n",
    "      "
   ]
  },
  {
   "cell_type": "code",
   "execution_count": 89,
   "id": "57718216",
   "metadata": {},
   "outputs": [
    {
     "name": "stdout",
     "output_type": "stream",
     "text": [
      "developer:sidharth, salary: 75000, language:python\n",
      "manager: jordan carter, salary: 100000, team size: 6\n"
     ]
    }
   ],
   "source": [
    "class employee:\n",
    "    def __init__(self,name,salary):\n",
    "        self.salary = salary\n",
    "        self.name = name\n",
    "\n",
    "\n",
    "class developer(employee):\n",
    "    def __init__(self,name,salary,language):\n",
    "       super().__init__(name,salary)\n",
    "       self.language = language\n",
    "    def show_details(self):\n",
    "        return f\"developer:{self.name}, salary: {self.salary}, language:{self.language}\"\n",
    "class manager(employee):\n",
    "    def __init__(self, name, salary, team_size):\n",
    "        super().__init__ (name,salary)\n",
    "        self.team_size = team_size\n",
    "    def show_details(self):\n",
    "       return f\"manager: {self.name}, salary: {self.salary}, team size: {self.team_size}\"\n",
    "    \n",
    "employer1 = developer(\"sidharth\",\"75000\",\"python\")\n",
    "print(employer1.show_details())\n",
    "employer2 = manager(\"jordan carter\",\"100000\",\"6\")\n",
    "print(employer2.show_details())\n",
    "    "
   ]
  },
  {
   "cell_type": "code",
   "execution_count": 10,
   "id": "d4858fc9",
   "metadata": {},
   "outputs": [
    {
     "name": "stdout",
     "output_type": "stream",
     "text": [
      "employee:sidharth,age:18,salary:700000\n"
     ]
    }
   ],
   "source": [
    "class Person:\n",
    "    def __init__(self,name,age,):\n",
    "        self.name = name\n",
    "        self.age = age\n",
    "class employee(Person):\n",
    "    def __init__(self,name,age,salary):\n",
    "      super().__init__(name,age,)\n",
    "      self.salary = salary\n",
    "    def show_details(self):\n",
    "        return f\"employee:{self.name},age:{self.age},salary:{self.salary}\"\n",
    "worker1 = employee (\"sidharth\",18,\"700000\")\n",
    "print(worker1.show_details())"
   ]
  },
  {
   "cell_type": "code",
   "execution_count": 1,
   "id": "dc8e0463",
   "metadata": {},
   "outputs": [
    {
     "name": "stdout",
     "output_type": "stream",
     "text": [
      "PORSCHE  is on neutral\n",
      "PORSCHE music is being played\n",
      "HUMMER EV battery level at 99%\n",
      "SUZUKI  reving \n",
      "VOLVO loud rumbling\n"
     ]
    }
   ],
   "source": [
    "class Vehicle:\n",
    "    def __init__(self, brand):\n",
    "        self.brand = brand\n",
    "    def start_engine(self):\n",
    "        return f\"{self.brand} engine is starting...\"\n",
    "class Car(Vehicle):\n",
    "    def start_engine(self):\n",
    "        return f\"{self.brand}  is on neutral\"\n",
    "    def play_music(self):\n",
    "         return f\"{self.brand} music is being played\"\n",
    "class electric (Vehicle):\n",
    "    def charge_battery(self):\n",
    "         return f\"{self.brand} battery level at 99%\"\n",
    "class Bike(Vehicle):\n",
    "    def start_engine(self):\n",
    "        return f\"{self.brand}  reving \"\n",
    "class Truck(Vehicle):\n",
    "    def start_engine(self):\n",
    "        return f\"{self.brand} loud rumbling\"\n",
    "a = Car(\"PORSCHE\")\n",
    "b = electric(\"HUMMER EV\")\n",
    "c = Bike(\"SUZUKI\")\n",
    "d = Truck(\"VOLVO\")\n",
    "\n",
    "print(a.start_engine())\n",
    "print(a.play_music())\n",
    "print(b.charge_battery())\n",
    "print(c.start_engine())\n",
    "\n",
    "print(d.start_engine())\n"
   ]
  },
  {
   "cell_type": "code",
   "execution_count": 17,
   "id": "54f0444c",
   "metadata": {},
   "outputs": [
    {
     "name": "stdout",
     "output_type": "stream",
     "text": [
      "8\n",
      "9\n"
     ]
    }
   ],
   "source": [
    "class shapes:\n",
    "    def area (self):\n",
    "     return \"not the defined the shape\"\n",
    "class rectangle(shapes):\n",
    "   def __init__(self, length, breadth):\n",
    "        self.length = length\n",
    "        self.breadth = breadth\n",
    "   def area(self): #method overriding\n",
    "        return self.length*self.breadth #calculation\n",
    "class square(shapes):\n",
    "    def __init__(self, side):\n",
    "        self.side = side\n",
    "    def area(self):  # method overriding\n",
    "        return self.side*self.side #calculation\n",
    "Q1 =  rectangle(2,4)\n",
    "Q2 =  square(3)\n",
    "print( Q1.area())  \n",
    "print( Q2.area())\n"
   ]
  },
  {
   "cell_type": "code",
   "execution_count": 3,
   "id": "917a54b5",
   "metadata": {},
   "outputs": [
    {
     "name": "stdout",
     "output_type": "stream",
     "text": [
      "haven't stock left\n",
      "None\n",
      "you're stock added successfull.... now 10 are remining..\n",
      "10\n"
     ]
    }
   ],
   "source": [
    "class library:\n",
    "    def __init__(self,title,stock=0):\n",
    "        self.title=title\n",
    "        self.stock=stock\n",
    "    def  borrow(self,s):\n",
    "        if self.stock <0:\n",
    "            self.stock -=s\n",
    "            return f\"{self.stock} books remaining...\"\n",
    "        else:\n",
    "            print(\"haven't stock left\")\n",
    "    def return_book(self,n=0):\n",
    "        self.stock+=n \n",
    "        return f\"you're stock added successfull.... now {self.stock} are remining..\"\n",
    "    def check_stock(self):\n",
    "          print(self.stock)\n",
    "book1=library(\"beserk\",5)\n",
    "print(book1.borrow(5))  \n",
    "print(book1.return_book(5))\n",
    "book1.check_stock()"
   ]
  },
  {
   "cell_type": "code",
   "execution_count": 3,
   "id": "4310fab3",
   "metadata": {},
   "outputs": [
    {
     "name": "stdout",
     "output_type": "stream",
     "text": [
      "draw a generic a shape\n",
      "draw a circle\n",
      "draw a rectangle\n",
      "draw a square\n"
     ]
    }
   ],
   "source": [
    "class shape :\n",
    "    def draw(self):\n",
    "        return f\"draw a generic a shape\"\n",
    "class circle(shape):\n",
    "    def draw(self):\n",
    "        return f\"draw a circle\"\n",
    "class rectangle(shape):\n",
    "    def draw (self):\n",
    "        return f\"draw a rectangle\"\n",
    "class square(shape):\n",
    "    def draw(self):\n",
    "        return f\"draw a square\"\n",
    "shape =[shape(),circle(),rectangle(),square()]\n",
    "for s in shape :\n",
    "    print (s.draw())\n"
   ]
  },
  {
   "cell_type": "code",
   "execution_count": null,
   "id": "104599ae",
   "metadata": {},
   "outputs": [],
   "source": [
    "#getter = method used to access (read) the value of a private variable.\n",
    "#setter = method used to update (write) the value of a private variable.\n",
    "# private variable = variale declared using double underscore(__)\n",
    "# data encapsulation = hiding the complex the part of the data and showing the essential"
   ]
  },
  {
   "cell_type": "code",
   "execution_count": 31,
   "id": "53f9295c",
   "metadata": {},
   "outputs": [
    {
     "name": "stdout",
     "output_type": "stream",
     "text": [
      "price is too low!\n",
      "12000\n"
     ]
    }
   ],
   "source": [
    "class laptop:\n",
    "    def __init__(self, price): # private variable\n",
    "        self.__price = price\n",
    "    # using getter\n",
    "    def get_price(self):\n",
    "        return self.__price\n",
    "   # using setter\n",
    "    def set_price(self, price):\n",
    "        if price >10000:\n",
    "            self.__price = price\n",
    "        else:\n",
    "            print(\"price is too low!\")\n",
    "\n",
    " # making object\n",
    "a1 = laptop(12000) \n",
    "a1.set_price(7000)\n",
    "print(a1.get_price())\n",
    "        \n",
    "            "
   ]
  },
  {
   "cell_type": "markdown",
   "id": "ef29b37d",
   "metadata": {},
   "source": [
    "create a book class "
   ]
  },
  {
   "cell_type": "code",
   "execution_count": 13,
   "id": "95ace170",
   "metadata": {},
   "outputs": [],
   "source": [
    "class book:\n",
    "    def __init__(self,title): #private variable\n",
    "        self.__title = title\n",
    "#using getter\n",
    "    def get_title(self):\n",
    "        return self.__title\n",
    "    "
   ]
  },
  {
   "cell_type": "code",
   "execution_count": null,
   "id": "33226bcf",
   "metadata": {},
   "outputs": [],
   "source": [
    "# method overloading means having multiplwe methods with same name but different parameters.\n",
    "# *args allows the method to accept any number of arguments.(for variables number of positional argument)\n"
   ]
  },
  {
   "cell_type": "markdown",
   "id": "1eb415b5",
   "metadata": {},
   "source": [
    "create a class maths with a method multiply():\n",
    "2*3 = 6\n",
    "2*3*2 = 12"
   ]
  },
  {
   "cell_type": "code",
   "execution_count": 39,
   "id": "2ba308ff",
   "metadata": {},
   "outputs": [
    {
     "name": "stdout",
     "output_type": "stream",
     "text": [
      "18\n",
      "144\n"
     ]
    }
   ],
   "source": [
    "class calculator:\n",
    "    def product(self, *args):\n",
    "        product = 1\n",
    "\n",
    "        for i in args:\n",
    "            product = product*i\n",
    "        return product\n",
    "calc  = calculator()\n",
    "print(calc.product(3, 6))\n",
    "print(calc.product(3,6,8))"
   ]
  },
  {
   "cell_type": "code",
   "execution_count": 2,
   "id": "5feb3f51",
   "metadata": {},
   "outputs": [
    {
     "name": "stdout",
     "output_type": "stream",
     "text": [
      "name:sidharth\n",
      "age:18\n",
      "name:sidharth\n",
      "age:18\n",
      "salary:75000\n",
      "department:aiml engeneering\n"
     ]
    }
   ],
   "source": [
    "#create a class employee with a method show_details(**kwargs)that should:\n",
    "# accept ay number of keyword argumnts like name, age, salary,departments.\n",
    "class Employee:\n",
    "    def show_details(self,**kwargs):\n",
    "        for k,v in kwargs.items():\n",
    "            print(f'{k}:{v}')\n",
    "#passing object\n",
    "emp = Employee()\n",
    "emp.show_details( name = \"sidharth\", age =18) \n",
    "emp.show_details( name = \"sidharth\", age = 18, salary = 75000, department = \"aiml engeneering\")    "
   ]
  },
  {
   "cell_type": "code",
   "execution_count": 4,
   "id": "e56b1a9c",
   "metadata": {},
   "outputs": [
    {
     "name": "stdout",
     "output_type": "stream",
     "text": [
      "Original list: [1, 2, 3, 2, 4, 1, 5, 3, 6]\n",
      "List without duplicates: [1]\n"
     ]
    }
   ],
   "source": [
    "def remove_duplicates(lst):\n",
    " v1 = set()\n",
    " result = []\n",
    " for num in lst:\n",
    "    if num not in v1:\n",
    "        result.append(num)\n",
    "        v1.add(num)\n",
    "    return result\n",
    "numbers = [1, 2, 3, 2, 4, 1, 5, 3, 6]\n",
    "print(\"Original list:\", numbers)\n",
    "print(\"List without duplicates:\", remove_duplicates(numbers))\n"
   ]
  },
  {
   "cell_type": "code",
   "execution_count": 41,
   "id": "6435c4b7",
   "metadata": {},
   "outputs": [
    {
     "name": "stdout",
     "output_type": "stream",
     "text": [
      "i am sidharth and my salary is750000 \n",
      "company is amd\n",
      "True\n"
     ]
    }
   ],
   "source": [
    "class employee:\n",
    "    company_name = \"puma\"\n",
    "    def __init__(self,name,salary) :\n",
    "        self.name =  name\n",
    "        self.salary = salary\n",
    "#using instance method\n",
    "    def show_details(self):\n",
    "        print (f\"i am {self.name} and my salary is{self.salary} \")\n",
    "#using class method\n",
    "    @classmethod\n",
    "    def change_company(cls,amd):\n",
    "      cls.company_name = amd\n",
    "      return f\"company is {cls.company_name}\" \n",
    "# using static method\n",
    "    @staticmethod\n",
    "    def is_valid (salary):\n",
    "        return salary>0\n",
    "\n",
    "e1 = employee(\"sidharth\",750000)\n",
    "e1.show_details()\n",
    "print(employee.change_company(\"amd\"))\n",
    "print(employee.is_valid(4000))"
   ]
  },
  {
   "cell_type": "code",
   "execution_count": 53,
   "id": "2325f4ba",
   "metadata": {},
   "outputs": [
    {
     "name": "stdout",
     "output_type": "stream",
     "text": [
      "the rate now is 13\n",
      "minimum balance should be 1000\n"
     ]
    }
   ],
   "source": [
    "class BankAccount:\n",
    "    rate = 12\n",
    "    def __init__(self,balance):\n",
    "        self.balance = balance\n",
    "#using instance method\n",
    "    def deposit(self, amount):\n",
    "        self.balance += amount\n",
    "#using class method\n",
    "    @classmethod\n",
    "    def set_interest_rate(cls,rate):\n",
    "        cls.rate = rate\n",
    "        return f\"the rate now is {cls.rate}\"\n",
    "#using static method\n",
    "    @staticmethod\n",
    "    def bank_policy():\n",
    "        print(\"minimum balance should be 1000\")\n",
    "c1 = BankAccount(45000)\n",
    "c1.deposit(1000)\n",
    "print(BankAccount.set_interest_rate(13))\n",
    "BankAccount.bank_policy()\n",
    "\n"
   ]
  },
  {
   "cell_type": "markdown",
   "id": "8d179cbb",
   "metadata": {},
   "source": [
    "write a program to reverse a tuple wihtout using slicing([::-1])"
   ]
  },
  {
   "cell_type": "code",
   "execution_count": null,
   "id": "a2e07426",
   "metadata": {},
   "outputs": [
    {
     "ename": "TypeError",
     "evalue": "'tuple' object is not callable",
     "output_type": "error",
     "traceback": [
      "\u001b[31m---------------------------------------------------------------------------\u001b[39m",
      "\u001b[31mTypeError\u001b[39m                                 Traceback (most recent call last)",
      "\u001b[36mCell\u001b[39m\u001b[36m \u001b[39m\u001b[32mIn[55]\u001b[39m\u001b[32m, line 2\u001b[39m\n\u001b[32m      1\u001b[39m a=(\u001b[32m1\u001b[39m,\u001b[32m2\u001b[39m,\u001b[32m3\u001b[39m,\u001b[32m4\u001b[39m,\u001b[32m5\u001b[39m,\u001b[32m6\u001b[39m)\n\u001b[32m----> \u001b[39m\u001b[32m2\u001b[39m v =\u001b[43ma\u001b[49m\u001b[43m(\u001b[49m\u001b[43m-\u001b[49m\u001b[32;43m1\u001b[39;49m\u001b[43m)\u001b[49m\n\u001b[32m      3\u001b[39m \u001b[38;5;28mprint\u001b[39m(v)\n",
      "\u001b[31mTypeError\u001b[39m: 'tuple' object is not callable"
     ]
    }
   ],
   "source": [
    "a=(1,2,3,4,5,6)\n",
    "v =a(-1)\n",
    "print(v)\n"
   ]
  },
  {
   "cell_type": "code",
   "execution_count": null,
   "id": "cee37e21",
   "metadata": {},
   "outputs": [
    {
     "name": "stdout",
     "output_type": "stream",
     "text": [
      "The product sony headphone costs 20000 and have warranty up to 2 year \n",
      "the product CHROME HEARTS leather jacket costs about 45000 and the size is XL\n",
      "the sofa is imported\n"
     ]
    }
   ],
   "source": [
    "class Product:\n",
    "    def __init__(self,name,price):\n",
    "        self.name = name\n",
    "        self.price = price\n",
    "\n",
    "class Electronics(Product):\n",
    "    def __init__(self, name, price, warranty):\n",
    "     super().__init__(name,price)\n",
    "     self.warranty = warranty\n",
    "     print( f\"The product {self.name} costs {self.price} and have warranty up to {self.warranty} year \")\n",
    "\n",
    "class  clothing(Product):\n",
    "   def __init__(self,name, price, size ):\n",
    "        super().__init__(name,price)\n",
    "        self.size =size \n",
    "        print( f\"the product {self.name} costs about {self.price} and the size is {self.size}\")\n",
    "\n",
    "class Furniture(Product):\n",
    "   def __init__(self, material):\n",
    "        self.material = material\n",
    "        print (f\"the {self.material} is imported\")\n",
    "        \n",
    "A1 = Electronics (\"sony headphone\",20000,2)\n",
    "A2 = clothing (\"CHROME HEARTS leather jacket\",45000,\"XL\")\n",
    "A3 = Furniture (\"sofa\")\n",
    "\n",
    "   "
   ]
  },
  {
   "cell_type": "code",
   "execution_count": null,
   "id": "c45811c4",
   "metadata": {},
   "outputs": [
    {
     "name": "stdout",
     "output_type": "stream",
     "text": [
      "40\n"
     ]
    }
   ],
   "source": [
    "class FullTimeEmployee:\n",
    "    def __init__(self,name, salary):\n",
    "        self.name = name\n",
    "        self.salary = salary\n",
    "\n",
    "    def calculate(self):\n",
    "        return(f\"you are {self.name} and your fixed salary is {self.salary}\") \n",
    "    \n",
    "class PartTimeEmployee:\n",
    "    def __init__(self,name, rate, hour):\n",
    "        self.name = name\n",
    "        self.rate = rate\n",
    "        self.hour = hour\n",
    "\n",
    "    def calculate_salary(self):\n",
    "        y = self.rate*self.hour\n",
    "        return y\n",
    "\n",
    "a1 = PartTimeEmployee(\"sidharth\",5,8)\n",
    "print(a1.calculate_salary())"
   ]
  },
  {
   "cell_type": "code",
   "execution_count": null,
   "id": "67828e69",
   "metadata": {},
   "outputs": [
    {
     "name": "stdout",
     "output_type": "stream",
     "text": [
      "11\n",
      "-3\n",
      "28\n"
     ]
    }
   ],
   "source": [
    "a = int(input(\"enter a number\"))\n",
    "b = int(input(\"enter a number\"))\n",
    "print(a+b)\n",
    "print(a-b)\n",
    "print(a*b)\n"
   ]
  },
  {
   "cell_type": "code",
   "execution_count": 25,
   "id": "4d40dc77",
   "metadata": {},
   "outputs": [
    {
     "name": "stdout",
     "output_type": "stream",
     "text": [
      "{'Car': 'skoda', 'model': 2018, 'type': 'AMT'}\n",
      "{'Car': 'ferrari', 'model': 2018, 'type': 'AMT'}\n",
      "{'Car': 'ferrari', 'model': '2025', 'type': 'AMT'}\n",
      "{'Car': 'ferrari', 'type': 'AMT'}\n"
     ]
    }
   ],
   "source": [
    "Vehicle ={\"Car\":\"skoda\",\"model\": 2018,\"type\":\"AMT\"}\n",
    "print(Vehicle)\n",
    "\n",
    "\n",
    "Vehicle[\"Car\"] = \"ferrari\"\n",
    "print(Vehicle)\n",
    "\n",
    "\n",
    "Vehicle [\"model\"] = \"2025\"\n",
    "print(Vehicle)\n",
    "\n",
    "del Vehicle[\"model\"]\n",
    "print(Vehicle)"
   ]
  },
  {
   "cell_type": "code",
   "execution_count": 45,
   "id": "f51087f6",
   "metadata": {},
   "outputs": [
    {
     "name": "stdout",
     "output_type": "stream",
     "text": [
      "['sedans', 'hatchback', 'suv', 'mini suv', 'coupe']\n",
      "['sedans', 'hatchback', 'suv', 'crossover', 'mini suv', 'coupe']\n",
      "['sedans', 'hatchback', 'suv', 'crossover', 'coupe']\n",
      "['coupe', 'crossover', 'hatchback', 'sedans', 'suv']\n",
      "['coupe', 'crossover', 'hatchback', 'sedans', 'suv', 'hyper sport']\n"
     ]
    }
   ],
   "source": [
    "Cars = [\"sedans\",\"hatchback\",\"suv\",\"mini suv\",\"coupe\"]\n",
    "print(Cars)\n",
    "\n",
    "Cars.insert(3,\"crossover\")\n",
    "print(Cars)\n",
    "\n",
    "Cars.remove(\"mini suv\")\n",
    "print(Cars)\n",
    "\n",
    "Cars.sort(key=str.lower)\n",
    "print(Cars)\n",
    "\n",
    "Cars.append(\"hyper sport\")\n",
    "print(Cars)"
   ]
  },
  {
   "cell_type": "code",
   "execution_count": 11,
   "id": "b10739c2",
   "metadata": {},
   "outputs": [
    {
     "name": "stdout",
     "output_type": "stream",
     "text": [
      "this fantastic shawarma is just for 110 rupees in Freetime near pipeline jn\n"
     ]
    }
   ],
   "source": [
    "class food:\n",
    "    def __init__(self,name, price, hotel, place, ):\n",
    "        self.name = name\n",
    "        self.price = price\n",
    "        self.hotel = hotel\n",
    "        self.place = place\n",
    "\n",
    "    def __str__(self):\n",
    "        return (f\"this fantastic {self.name} is just for {self.price} rupees in {self.hotel} near {self.place}\")\n",
    "a = food(\"shawarma\",110,\"Freetime\",\"pipeline jn\")\n",
    "\n",
    "print(a)"
   ]
  },
  {
   "cell_type": "code",
   "execution_count": 1,
   "id": "8602943a",
   "metadata": {},
   "outputs": [
    {
     "name": "stdout",
     "output_type": "stream",
     "text": [
      "Fibonacci Series: 0 1 1 2 3 5 8 13 "
     ]
    }
   ],
   "source": [
    "# Fibonacci series using iteration\n",
    "\n",
    "# Input\n",
    "N = int(input(\"Enter the number of terms: \"))\n",
    "\n",
    "# Initialize first two terms\n",
    "a, b = 0, 1\n",
    "\n",
    "print(\"Fibonacci Series:\", end=\" \")\n",
    "\n",
    "for i in range(N):\n",
    "    print(a, end=\" \")\n",
    "    # Update values\n",
    "    a, b = b, a + b\n",
    "    \n"
   ]
  },
  {
   "cell_type": "code",
   "execution_count": 1,
   "id": "e23281dc",
   "metadata": {},
   "outputs": [
    {
     "name": "stdout",
     "output_type": "stream",
     "text": [
      "Name: Alice, Marks: 85\n"
     ]
    }
   ],
   "source": [
    "class Student:\n",
    "    def __init__(self, name, marks):\n",
    "        self.name = name\n",
    "        self.marks = marks\n",
    "\n",
    "    # Instance method\n",
    "    def display_info(self):\n",
    "        print(f\"Name: {self.name}, Marks: {self.marks}\")\n",
    "\n",
    "s1 = Student(\"Alice\", 85)\n",
    "s1.display_info()  # works on a specific object\n",
    "\n"
   ]
  },
  {
   "cell_type": "code",
   "execution_count": 11,
   "id": "62542b2b",
   "metadata": {},
   "outputs": [
    {
     "name": "stdout",
     "output_type": "stream",
     "text": [
      "Team:REAL MADRID  League:LALIGA\n"
     ]
    }
   ],
   "source": [
    "class football:\n",
    "    def __init__(self, team,  league):\n",
    "        self.team = team\n",
    "        self.league = league\n",
    "\n",
    "    def display(self):\n",
    "        print(f\"Team:{self.team}  League:{self.league}\")\n",
    "    \n",
    "s = football(\"REAL MADRID\",\"LALIGA\")\n",
    "s.display()            \n",
    "  \n"
   ]
  },
  {
   "cell_type": "code",
   "execution_count": 39,
   "id": "ea6ad442",
   "metadata": {},
   "outputs": [
    {
     "name": "stdout",
     "output_type": "stream",
     "text": [
      "u broke as hell. get a j*b\n",
      "10000\n"
     ]
    }
   ],
   "source": [
    "class phone:\n",
    "    def __init__(self,price):\n",
    "        self.__price = price\n",
    "#using getter\n",
    "    def get_price(self):\n",
    "     return self.__price\n",
    "\n",
    "    def set_price(self, price):\n",
    "       if price >2000:\n",
    "         self.__price = price\n",
    "       else:\n",
    "          print(\"u broke as hell. get a j*b\")\n",
    "a1 = phone(10000)\n",
    "a1.set_price(1000)\n",
    "print(a1.get_price())"
   ]
  },
  {
   "cell_type": "code",
   "execution_count": null,
   "id": "7dfafa85",
   "metadata": {},
   "outputs": [
    {
     "name": "stdout",
     "output_type": "stream",
     "text": [
      "{'name': 'sidharth', 'class': 'plus two', 'city': 'Ernakulam'}\n",
      "{'name': 'sidharth', 'class': 'plus two', 'city': 'Ernakulam', 'subject': 'computer science'}\n"
     ]
    },
    {
     "data": {
      "text/plain": [
       "{'name': 'sidharth', 'city': 'Ernakulam', 'subject': 'computer science'}"
      ]
     },
     "execution_count": 66,
     "metadata": {},
     "output_type": "execute_result"
    }
   ],
   "source": [
    "c = {\"name\" : \"sidharth\", \"class\" :\"plus two\", \"city\": \"Ernakulam\" }\n",
    "print(c)\n",
    "c[\"subject\"] = \"computer science\"\n",
    "print(c)\n",
    "del c[\"class\"]\n",
    "c\n"
   ]
  },
  {
   "cell_type": "code",
   "execution_count": 24,
   "id": "fa533505",
   "metadata": {},
   "outputs": [
    {
     "data": {
      "text/plain": [
       "' 13% interest on student loan, deposit 3000 to complete plan'"
      ]
     },
     "execution_count": 24,
     "metadata": {},
     "output_type": "execute_result"
    }
   ],
   "source": [
    "class bank:\n",
    "    def __init__(self, loan, deposit):\n",
    "        self.loan =  loan\n",
    "        self.deposit = deposit\n",
    "\n",
    "    def cashier(self):\n",
    "        return (f\" 13% interest on {self.loan} loan, deposit {self.deposit} to complete plan\")\n",
    "    \n",
    "a = bank (\"student\", 3000)\n",
    "a.cashier()\n",
    "\n"
   ]
  },
  {
   "cell_type": "code",
   "execution_count": 18,
   "id": "7b942f8d",
   "metadata": {},
   "outputs": [
    {
     "name": "stdout",
     "output_type": "stream",
     "text": [
      "addition: 9\n",
      "subtraction: -1\n",
      "product: 20\n",
      "division: 0.8\n"
     ]
    }
   ],
   "source": [
    "class calculator:\n",
    "    def __init__(self,a,b):\n",
    "        self.a = a\n",
    "        self.b = b\n",
    "    def add(self):\n",
    "        return self.a+self.b\n",
    "    \n",
    "    def subtract(self):\n",
    "        return self.a-self.b\n",
    "    \n",
    "    def multiply(self):\n",
    "        return self.a*self.b\n",
    "    \n",
    "    def division(self):\n",
    "        return self.a / self.b\n",
    "    \n",
    "d1 = calculator(4,5)\n",
    "d1.subtract()\n",
    "d1.multiply()\n",
    "d1.add()\n",
    "print(\"addition:\",d1.add())\n",
    "print(\"subtraction:\",d1.subtract())\n",
    "print(\"product:\",d1.multiply())\n",
    "print(\"division:\", d1.division())\n"
   ]
  },
  {
   "cell_type": "code",
   "execution_count": null,
   "id": "f9053cc3",
   "metadata": {},
   "outputs": [
    {
     "name": "stdout",
     "output_type": "stream",
     "text": [
      " name: sidharth, role: AI Engineer salary: 90000\n",
      "name :frida, role:branch salary: 120000\n",
      " name: sidharth, role: AI Engineer salary: 100000\n",
      "name :frida, role:branch salary: 130000\n"
     ]
    }
   ],
   "source": [
    "\n",
    "    \n",
    "       "
   ]
  },
  {
   "cell_type": "code",
   "execution_count": 1,
   "id": "d34bb022",
   "metadata": {},
   "outputs": [
    {
     "name": "stdout",
     "output_type": "stream",
     "text": [
      "the name of the car is Bentley Flying Spur and the price of the car is 25000000\n",
      "budget is too low\n"
     ]
    }
   ],
   "source": [
    "class Vehicle:\n",
    "    def __init__(self,name,price):\n",
    "        self.name = name\n",
    "        self.price = price\n",
    "    \n",
    "    def show_brochure(self):\n",
    "        return f\"the name of the car is {self.name} and the price of the car is {self.price}\"\n",
    "                                 \n",
    "    def set_price(self, price):\n",
    "        if price < 0:\n",
    "            print(\"budget is too low\")\n",
    "        else:\n",
    "            self.set_price = 0\n",
    "\n",
    "    def get_price(self):\n",
    "        return self.price\n",
    "    \n",
    "object1 = Vehicle(\"Bentley Flying Spur\",25000000)\n",
    "print(object1.show_brochure())\n",
    "object1.set_price(-2500000)\n",
    "\n",
    "\n"
   ]
  },
  {
   "cell_type": "code",
   "execution_count": 6,
   "id": "040f8c7b",
   "metadata": {},
   "outputs": [
    {
     "name": "stdout",
     "output_type": "stream",
     "text": [
      "addition: 68\n",
      "subtraction: -22\n",
      "multiply: 1035\n",
      "division: 1.0\n"
     ]
    }
   ],
   "source": [
    "#Write a calculator problem using OOP concepts like class, objects, instance methods, and encapsulation ?.\n",
    "class Calculator:\n",
    "    def __init__(self, a,b):\n",
    "        self.a = a\n",
    "        self.b = b\n",
    "    def add(self):\n",
    "        return self.a + self.b\n",
    "    \n",
    "    def subtract(self):\n",
    "        return self.a - self.b\n",
    "    \n",
    "    def multiply(self):\n",
    "        return self.a*self.b\n",
    "\n",
    "    def division(self):\n",
    "         return self.a/self.a\n",
    "objectr = Calculator(23,45)\n",
    "print(\"addition:\",objectr.add())\n",
    "print(\"subtraction:\",objectr.subtract())\n",
    "print(\"multiply:\",objectr.multiply())\n",
    "print(\"division:\",objectr.division())\n",
    "\n",
    "    "
   ]
  },
  {
   "cell_type": "code",
   "execution_count": null,
   "id": "ddd9b3f9",
   "metadata": {},
   "outputs": [
    {
     "name": "stdout",
     "output_type": "stream",
     "text": [
      "there is only vegetables and no chicken\n",
      "there is only lamb chops and no carrots\n"
     ]
    }
   ],
   "source": [
    "class Shop:\n",
    "    def __init__(self,veggies,meat):\n",
    "        self.veggies = veggies\n",
    "        self.meat = meat\n",
    "        \n",
    "    def show_details(self):\n",
    "        return f\"there is only {self.veggies} and no {self.meat}\"\n",
    "        \n",
    "objector1 = Shop(\"vegetables\",\"chicken\")\n",
    "objector2 = Shop(\"lamb chops\",\"carrots\")\n",
    "print(objector1.show_details())\n",
    "print(objector2.show_details())\n"
   ]
  },
  {
   "cell_type": "code",
   "execution_count": null,
   "id": "35c9c3d5",
   "metadata": {},
   "outputs": [
    {
     "name": "stdout",
     "output_type": "stream",
     "text": [
      "this is a Bentley and its a 2012 model its fuel type is petrol\n"
     ]
    }
   ],
   "source": [
    "class Vehicle:\n",
    "    def __init__(self,brand, model):\n",
    "        self.brand = brand\n",
    "        self.model = model\n",
    "   \n",
    "    def show_info(self):\n",
    "        return f\"this is a{self.brand} and its a {self.model}\"\n",
    "\n",
    "class Car(Vehicle):\n",
    "    def __init__(self,brand, model, fuel_type):\n",
    "        super().__init__(brand, model)\n",
    "        self.fuel_type = fuel_type\n",
    "    \n",
    "    def show_info (self):\n",
    "        return f\"this is a {self.brand} and its a {self.model} model its fuel type is {self.fuel_type}\"\n",
    "\n",
    "objector1 = Car(\"Bentley\",2012,\"petrol\")\n",
    "print(objector1.show_info())"
   ]
  },
  {
   "cell_type": "code",
   "execution_count": 22,
   "id": "49b8b8a7",
   "metadata": {},
   "outputs": [
    {
     "name": "stdout",
     "output_type": "stream",
     "text": [
      "hello sir how are you \n"
     ]
    }
   ],
   "source": [
    "def greet():\n",
    "    print(\"hello sir how are you \")\n",
    "greet()\n"
   ]
  },
  {
   "cell_type": "code",
   "execution_count": null,
   "id": "5b558a1a",
   "metadata": {},
   "outputs": [
    {
     "name": "stdout",
     "output_type": "stream",
     "text": [
      "call rick\n"
     ]
    }
   ],
   "source": [
    "def call():\n",
    "    print(\"call rick\")\n",
    "call()\n"
   ]
  },
  {
   "cell_type": "code",
   "execution_count": 12,
   "id": "b60b4cfb",
   "metadata": {},
   "outputs": [
    {
     "name": "stdout",
     "output_type": "stream",
     "text": [
      "8\n",
      "-2\n",
      "15\n",
      "0.6\n"
     ]
    }
   ],
   "source": [
    "class calculator:\n",
    "    def __init__(self, a,b):\n",
    "        self.a = a\n",
    "        self.b = b\n",
    "    def add(self):\n",
    "        return self.a + self.b\n",
    "    \n",
    "    def subtraction(self):\n",
    "        return self.a - self.b\n",
    "    \n",
    "    def multiply(self):\n",
    "        return self.a*self.b\n",
    "    \n",
    "    def division(self):\n",
    "        return self.a/ self.b\n",
    "    \n",
    "calc = calculator(3,5)\n",
    "calc.add()\n",
    "calc.subtraction()\n",
    "calc.multiply()\n",
    "calc.division()\n",
    "print(calc.add())\n",
    "print(calc.subtraction())\n",
    "print(calc.multiply())\n",
    "print(calc.division())\n"
   ]
  },
  {
   "cell_type": "code",
   "execution_count": 41,
   "id": "ac22cf9b",
   "metadata": {},
   "outputs": [
    {
     "name": "stdout",
     "output_type": "stream",
     "text": [
      "Bank: working hours: 8, profit you should make : 36%, appraisal: 12000  \n",
      "Employee: working hours: 10 , profit you made : 36%, appraisal: 12000, salary: 800000, OT: 4\n",
      "Manager: working hours: 10 , profit you made : 40%, appraisal: 20000, salary: 120000, OT: 6\n"
     ]
    }
   ],
   "source": [
    "class Bank:\n",
    "    def __init__(self, wrkinghours, profit, appraisal):\n",
    "        self.wrkinghours = wrkinghours\n",
    "        self.profit = profit\n",
    "        self.appraisal= appraisal\n",
    "\n",
    "    def set_appraisal(self,amount):\n",
    "        if amount < 10000:\n",
    "            print(\"upraisal to low\")\n",
    "        else:\n",
    "            self.appraisal = 10000\n",
    "\n",
    "    def show_details(self):\n",
    "        return f\"working hours: {self.wrkinghours}, profit you should make : {self.profit}%, appraisal: {self.appraisal}  \"\n",
    "\n",
    "class Employee(Bank):\n",
    "    def __init__(self, wrkinghours, profit, appraisal,salary,OT):\n",
    "        super().__init__(wrkinghours,profit,appraisal)\n",
    "        self.salary = salary\n",
    "        self.OT = OT\n",
    "\n",
    "    def show_details(self):\n",
    "            return f\"working hours: {self.wrkinghours} , profit you made : {self.profit}%, appraisal: {self.appraisal}, salary: {self.salary}, OT: {self.OT}\"\n",
    "    \n",
    "class Manager(Bank):\n",
    "    def __init__(self,wrkinghours, profit, appraisal, salary,OT):\n",
    "        super().__init__(wrkinghours, profit, appraisal)\n",
    "        self.salary = salary\n",
    "        self.OT = OT\n",
    "            \n",
    "    def show_details(self):\n",
    "        return f\"working hours: {self.wrkinghours} , profit you made : {self.profit}%, appraisal: {self.appraisal}, salary: {self.salary}, OT: {self.OT}\"\n",
    "    \n",
    "object1 = Bank(8, 36, 12000)    \n",
    "object2 = Employee(10,36,12000,800000, 4)\n",
    "object3 = Manager(10,40,20000,120000,6)\n",
    "object1.show_details()\n",
    "print( \"Bank:\",object1.show_details())\n",
    "print(\"Employee:\",object2.show_details())\n",
    "print(\"Manager:\",object3.show_details())"
   ]
  }
 ],
 "metadata": {
  "kernelspec": {
   "display_name": "Python 3",
   "language": "python",
   "name": "python3"
  },
  "language_info": {
   "codemirror_mode": {
    "name": "ipython",
    "version": 3
   },
   "file_extension": ".py",
   "mimetype": "text/x-python",
   "name": "python",
   "nbconvert_exporter": "python",
   "pygments_lexer": "ipython3",
   "version": "3.13.7"
  }
 },
 "nbformat": 4,
 "nbformat_minor": 5
}
