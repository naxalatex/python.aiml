{
 "cells": [
  {
   "cell_type": "code",
   "execution_count": 16,
   "id": "f8bec5fb",
   "metadata": {},
   "outputs": [
    {
     "name": "stdout",
     "output_type": "stream",
     "text": [
      "* \n",
      "* * \n",
      "* * * \n",
      "* * * * \n"
     ]
    }
   ],
   "source": [
    "c = \"*\"\n",
    "for i  in range (1,5):\n",
    "    for j in range (1,i+1):\n",
    "        print(c,end=\" \")\n",
    "    print()"
   ]
  },
  {
   "cell_type": "code",
   "execution_count": 5,
   "id": "aab5b060",
   "metadata": {},
   "outputs": [
    {
     "name": "stdout",
     "output_type": "stream",
     "text": [
      "1 \n",
      "1 2 \n",
      "1 2 3 \n",
      "1 2 3 4 \n",
      "1 2 3 4 5 \n"
     ]
    }
   ],
   "source": [
    "for i in range(1, 6):\n",
    "    for j in range(1, i + 1):\n",
    "        print(j, end=\" \")\n",
    "    print()\n"
   ]
  },
  {
   "cell_type": "code",
   "execution_count": 3,
   "id": "6ddea2e6",
   "metadata": {},
   "outputs": [
    {
     "name": "stdout",
     "output_type": "stream",
     "text": [
      "even\n"
     ]
    }
   ],
   "source": [
    "a = int(input(\"enter a number\"))\n",
    "if a % 2 == 0:\n",
    "    print (\"even\")\n",
    "elif  a % 1 == 0:\n",
    "        print (\"odd\")"
   ]
  },
  {
   "cell_type": "code",
   "execution_count": 5,
   "id": "5d7bf63f",
   "metadata": {},
   "outputs": [
    {
     "name": "stdout",
     "output_type": "stream",
     "text": [
      "432\n"
     ]
    }
   ],
   "source": [
    "a = input(\"enter a number\")\n",
    "print(a[::-1])"
   ]
  },
  {
   "cell_type": "code",
   "execution_count": 6,
   "id": "62ddd4f9",
   "metadata": {},
   "outputs": [
    {
     "data": {
      "text/plain": [
       "9"
      ]
     },
     "execution_count": 6,
     "metadata": {},
     "output_type": "execute_result"
    }
   ],
   "source": [
    "d = [1,2,3,4,5,6,7,8,9,]\n",
    "max(d)\n"
   ]
  },
  {
   "cell_type": "code",
   "execution_count": 3,
   "id": "e981b8a4",
   "metadata": {},
   "outputs": [
    {
     "name": "stdout",
     "output_type": "stream",
     "text": [
      "helloboom\n"
     ]
    }
   ],
   "source": [
    "def  word(n):\n",
    " print (\"hello\"+n)\n",
    "word(\"boom\")\n"
   ]
  },
  {
   "cell_type": "code",
   "execution_count": null,
   "id": "c2e39e28",
   "metadata": {},
   "outputs": [
    {
     "name": "stdout",
     "output_type": "stream",
     "text": [
      "7\n"
     ]
    }
   ],
   "source": [
    "def add(a,b):\n",
    "    return a+b\n",
    "print(add(2,3))\n",
    "\n"
   ]
  },
  {
   "cell_type": "code",
   "execution_count": 8,
   "id": "f04a3fe4",
   "metadata": {},
   "outputs": [
    {
     "name": "stdout",
     "output_type": "stream",
     "text": [
      "36\n"
     ]
    }
   ],
   "source": [
    "def sqrt(m,n):\n",
    "    return m*n\n",
    "print(sqrt(9,4))"
   ]
  },
  {
   "cell_type": "code",
   "execution_count": 20,
   "id": "0d8c5413",
   "metadata": {},
   "outputs": [
    {
     "name": "stdout",
     "output_type": "stream",
     "text": [
      "10\n"
     ]
    }
   ],
   "source": [
    "def a(sum):\n",
    "    return sum\n",
    "def add(a,b):\n",
    " c = a+b\n",
    " return c\n",
    "print(add(5,5))    \n",
    "    \n"
   ]
  },
  {
   "cell_type": "code",
   "execution_count": 23,
   "id": "eff34b28",
   "metadata": {},
   "outputs": [
    {
     "name": "stdout",
     "output_type": "stream",
     "text": [
      "6\n"
     ]
    }
   ],
   "source": [
    "def fact(n):\n",
    "    if n==0 or n==1:\n",
    "        return 1\n",
    "    else:\n",
    "     return n*fact(n-1)\n",
    "print(fact(3))             "
   ]
  },
  {
   "cell_type": "code",
   "execution_count": 35,
   "id": "67f3e6ea",
   "metadata": {},
   "outputs": [
    {
     "name": "stdout",
     "output_type": "stream",
     "text": [
      "[0, 2, 4, 6, 8, 10]\n"
     ]
    }
   ],
   "source": [
    "a = [i for i in range (12)  if i%2==0]\n",
    "print(a)"
   ]
  },
  {
   "cell_type": "code",
   "execution_count": null,
   "id": "1fbcefc0",
   "metadata": {},
   "outputs": [
    {
     "name": "stdout",
     "output_type": "stream",
     "text": [
      "['banana', 'grapefruit']\n"
     ]
    }
   ],
   "source": [
    "words =  [\"apple\",\"banana\", \"kiwi\",\"grapefruit\"]\n",
    "words = [i  for i in words if len(i)>5]\n",
    "print(words)"
   ]
  },
  {
   "cell_type": "code",
   "execution_count": 41,
   "id": "aa1d540a",
   "metadata": {},
   "outputs": [
    {
     "name": "stdout",
     "output_type": "stream",
     "text": [
      "['john', 'jane']\n"
     ]
    }
   ],
   "source": [
    "s = [{\"name\":\"john\",\"age\":18},\n",
    "     {\"name\": \"jane\",\"age\":20}]\n",
    "\n",
    "list1 = [i[\"name\"] for i in s]\n",
    "print(list1)\n"
   ]
  },
  {
   "cell_type": "code",
   "execution_count": 2,
   "id": "2f30a129",
   "metadata": {},
   "outputs": [
    {
     "ename": "SyntaxError",
     "evalue": "invalid syntax (997830925.py, line 2)",
     "output_type": "error",
     "traceback": [
      "  \u001b[36mCell\u001b[39m\u001b[36m \u001b[39m\u001b[32mIn[2]\u001b[39m\u001b[32m, line 2\u001b[39m\n\u001b[31m    \u001b[39m\u001b[31mlist =i for i  in s\u001b[39m\n            ^\n\u001b[31mSyntaxError\u001b[39m\u001b[31m:\u001b[39m invalid syntax\n"
     ]
    }
   ],
   "source": [
    "s =  [ [1,2,3],[4,5,6],[7,8,9]]\n",
    "list =i for i  in s \n",
    "print(list)"
   ]
  },
  {
   "cell_type": "code",
   "execution_count": 3,
   "id": "8eab30bc",
   "metadata": {},
   "outputs": [
    {
     "name": "stdout",
     "output_type": "stream",
     "text": [
      "25\n"
     ]
    }
   ],
   "source": [
    "y = 20 #global variable\n",
    "def add_five():\n",
    "    return y+5\n",
    "print(add_five())"
   ]
  },
  {
   "cell_type": "code",
   "execution_count": null,
   "id": "8b898925",
   "metadata": {},
   "outputs": [
    {
     "ename": "NameError",
     "evalue": "name 'x' is not defined",
     "output_type": "error",
     "traceback": [
      "\u001b[31m---------------------------------------------------------------------------\u001b[39m",
      "\u001b[31mNameError\u001b[39m                                 Traceback (most recent call last)",
      "\u001b[36mCell\u001b[39m\u001b[36m \u001b[39m\u001b[32mIn[4]\u001b[39m\u001b[32m, line 5\u001b[39m\n\u001b[32m      3\u001b[39m  result = \u001b[32m5\u001b[39m+x\n\u001b[32m      4\u001b[39m  \u001b[38;5;28;01mreturn\u001b[39;00m result\n\u001b[32m----> \u001b[39m\u001b[32m5\u001b[39m \u001b[38;5;28mprint\u001b[39m(\u001b[43mx\u001b[49m)\n\u001b[32m      6\u001b[39m \u001b[38;5;28mprint\u001b[39m(add())\n",
      "\u001b[31mNameError\u001b[39m: name 'x' is not defined"
     ]
    }
   ],
   "source": [
    "def add():\n",
    " x = 5 #locaal variable \n",
    " result = 5+x   \n",
    " return result\n",
    "print(x)\n",
    "print(add())"
   ]
  },
  {
   "cell_type": "code",
   "execution_count": 50,
   "id": "59ad1c35",
   "metadata": {},
   "outputs": [
    {
     "name": "stdout",
     "output_type": "stream",
     "text": [
      "17\n"
     ]
    }
   ],
   "source": [
    "class A:\n",
    "    def __init__(self):\n",
    "        pass\n",
    "    \n",
    "    def add(self, d, c):\n",
    "        return d + c\n",
    "\n",
    "n = A()\n",
    "print(n.add(9, 8))   # output: 17\n",
    "\n",
    "\n",
    "  "
   ]
  },
  {
   "cell_type": "code",
   "execution_count": 57,
   "id": "9f4e86a0",
   "metadata": {},
   "outputs": [],
   "source": [
    "class student:\n",
    "    def  __init__(self,name,mark,age):\n",
    "        self.name = name\n",
    "        self.__mark = mark\n",
    "        self.age = age\n",
    "    def s(self):\n",
    "            self.name = \"sidharth\"\n",
    "            self.__mark = 90\n",
    "            self.age = 18 \n",
    "    def display (self):\n",
    "      print(f\"my name is {self.name} my age is {self.age} and my mark {self.__mark}\")\n"
   ]
  },
  {
   "cell_type": "code",
   "execution_count": 60,
   "id": "aa48448c",
   "metadata": {},
   "outputs": [],
   "source": [
    "#abstract class\n",
    "from abc import ABC, abstractmethod\n",
    "class math(ABC):\n",
    "    @abstractmethod\n",
    "    def start(self):\n",
    "        pass\n",
    "class square(math):\n",
    "    def v(self):\n",
    "        return self.a*self.a\n",
    "    \n",
    "    \n",
    "    \n",
    "      "
   ]
  },
  {
   "cell_type": "code",
   "execution_count": 89,
   "id": "57718216",
   "metadata": {},
   "outputs": [
    {
     "name": "stdout",
     "output_type": "stream",
     "text": [
      "developer:sidharth, salary: 75000, language:python\n",
      "manager: jordan carter, salary: 100000, team size: 6\n"
     ]
    }
   ],
   "source": [
    "class employee:\n",
    "    def __init__(self,name,salary):\n",
    "        self.salary = salary\n",
    "        self.name = name\n",
    "\n",
    "\n",
    "class developer(employee):\n",
    "    def __init__(self,name,salary,language):\n",
    "       super().__init__(name,salary)\n",
    "       self.language = language\n",
    "    def show_details(self):\n",
    "        return f\"developer:{self.name}, salary: {self.salary}, language:{self.language}\"\n",
    "class manager(employee):\n",
    "    def __init__(self, name, salary, team_size):\n",
    "        super().__init__ (name,salary)\n",
    "        self.team_size = team_size\n",
    "    def show_details(self):\n",
    "       return f\"manager: {self.name}, salary: {self.salary}, team size: {self.team_size}\"\n",
    "    \n",
    "employer1 = developer(\"sidharth\",\"75000\",\"python\")\n",
    "print(employer1.show_details())\n",
    "employer2 = manager(\"jordan carter\",\"100000\",\"6\")\n",
    "print(employer2.show_details())\n",
    "    "
   ]
  },
  {
   "cell_type": "code",
   "execution_count": 10,
   "id": "d4858fc9",
   "metadata": {},
   "outputs": [
    {
     "name": "stdout",
     "output_type": "stream",
     "text": [
      "employee:sidharth,age:18,salary:700000\n"
     ]
    }
   ],
   "source": [
    "class Person:\n",
    "    def __init__(self,name,age,):\n",
    "        self.name = name\n",
    "        self.age = age\n",
    "class employee(Person):\n",
    "    def __init__(self,name,age,salary):\n",
    "      super().__init__(name,age,)\n",
    "      self.salary = salary\n",
    "    def show_details(self):\n",
    "        return f\"employee:{self.name},age:{self.age},salary:{self.salary}\"\n",
    "worker1 = employee (\"sidharth\",18,\"700000\")\n",
    "print(worker1.show_details())"
   ]
  },
  {
   "cell_type": "code",
   "execution_count": null,
   "id": "2bb08996",
   "metadata": {},
   "outputs": [],
   "source": [
    "class vehicle:\n",
    "    def __init__(self,brand):\n",
    "        self.brand = brand\n",
    "    def __init__(self):\n",
    "        return f\"{}\"\n"
   ]
  },
  {
   "cell_type": "code",
   "execution_count": 11,
   "id": "dc8e0463",
   "metadata": {},
   "outputs": [
    {
     "name": "stdout",
     "output_type": "stream",
     "text": [
      "porsche car engine roars to life!\n",
      "hayabusa bike engine revs up!\n",
      "volvo truck engine rumbles loudly!\n"
     ]
    }
   ],
   "source": [
    "class Vehicle:\n",
    "    def __init__(self, brand):\n",
    "        self.brand = brand\n",
    "    def start_engine(self):\n",
    "        return f\"{self.brand} engine is starting...\"\n",
    "class Car(Vehicle):\n",
    "    def start_engine(self):\n",
    "        return f\"{self.brand} car engine roars to life!\"\n",
    "class Bike(Vehicle):\n",
    "    def start_engine(self):\n",
    "        return f\"{self.brand} bike engine revs up!\"\n",
    "class Truck(Vehicle):\n",
    "    def start_engine(self):\n",
    "        return f\"{self.brand} truck engine rumbles loudly!\"\n",
    "v1 = Car(\"porsche\")\n",
    "v2 = Bike(\"hayabusa\")\n",
    "v3 = Truck(\"volvo\")\n",
    "print(v1.start_engine())\n",
    "print(v2.start_engine())\n",
    "print(v3.start_engine())"
   ]
  }
 ],
 "metadata": {
  "kernelspec": {
   "display_name": "Python 3",
   "language": "python",
   "name": "python3"
  },
  "language_info": {
   "codemirror_mode": {
    "name": "ipython",
    "version": 3
   },
   "file_extension": ".py",
   "mimetype": "text/x-python",
   "name": "python",
   "nbconvert_exporter": "python",
   "pygments_lexer": "ipython3",
   "version": "3.13.7"
  }
 },
 "nbformat": 4,
 "nbformat_minor": 5
}
