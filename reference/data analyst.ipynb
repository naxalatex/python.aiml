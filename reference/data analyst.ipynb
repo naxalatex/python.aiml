{
 "cells": [
  {
   "cell_type": "markdown",
   "id": "1ff3771b",
   "metadata": {},
   "source": [
    "DATA ANALYST\n",
    "A process of inspecting, cleaning, transforming  data with the goal of discovering useful information, informing conclusion and supporting decision making"
   ]
  },
  {
   "cell_type": "code",
   "execution_count": null,
   "id": "ed4200bb",
   "metadata": {},
   "outputs": [],
   "source": [
    "# exploring knowledge and insight from raw data into business logic\n",
    "#looks backward(interprets and explains)\n",
    "# focuses on examining existing, often structered data"
   ]
  },
  {
   "cell_type": "markdown",
   "id": "873bcbd8",
   "metadata": {},
   "source": [
    "DATA SCIENCE\n"
   ]
  },
  {
   "cell_type": "code",
   "execution_count": null,
   "id": "00b5f7fd",
   "metadata": {},
   "outputs": [],
   "source": [
    "#a broad, multidiscplinary field.\n",
    "# focuses on asking new,strategic questions\n",
    "#uses tools like SQL, Excel\n",
    "#look forward (predicts and innovates)"
   ]
  },
  {
   "cell_type": "markdown",
   "id": "b36b8a91",
   "metadata": {},
   "source": [
    " analyst : checks the past and shows the reason why its happend (earthquake)\n",
    "data science : predicts if it would occure again in the future (earthquake)"
   ]
  },
  {
   "cell_type": "code",
   "execution_count": 21,
   "id": "d6e3ba1a",
   "metadata": {},
   "outputs": [
    {
     "name": "stdout",
     "output_type": "stream",
     "text": [
      "11\n"
     ]
    },
    {
     "ename": "AttributeError",
     "evalue": "module 'c' has no attribute 'subtract'",
     "output_type": "error",
     "traceback": [
      "\u001b[31m---------------------------------------------------------------------------\u001b[39m",
      "\u001b[31mAttributeError\u001b[39m                            Traceback (most recent call last)",
      "\u001b[36mCell\u001b[39m\u001b[36m \u001b[39m\u001b[32mIn[21]\u001b[39m\u001b[32m, line 5\u001b[39m\n\u001b[32m      3\u001b[39m \u001b[38;5;28;01mimport\u001b[39;00m\u001b[38;5;250m \u001b[39m\u001b[34;01mc\u001b[39;00m\n\u001b[32m      4\u001b[39m \u001b[38;5;28mprint\u001b[39m(c.add(\u001b[32m5\u001b[39m,\u001b[32m6\u001b[39m))\n\u001b[32m----> \u001b[39m\u001b[32m5\u001b[39m \u001b[38;5;28mprint\u001b[39m(\u001b[43mc\u001b[49m\u001b[43m.\u001b[49m\u001b[43msubtract\u001b[49m(\u001b[32m5\u001b[39m,\u001b[32m6\u001b[39m))\n",
      "\u001b[31mAttributeError\u001b[39m: module 'c' has no attribute 'subtract'"
     ]
    }
   ],
   "source": [
    "# A module in pythin is just a .py file that cinatains functions, classes or variable which you can import and reuse in another file\n",
    "#synatx -> import module name \n",
    "import c\n",
    "print(c.add(5,6))\n",
    "print(c.subtract(5,6))"
   ]
  }
 ],
 "metadata": {
  "kernelspec": {
   "display_name": "Python 3",
   "language": "python",
   "name": "python3"
  },
  "language_info": {
   "codemirror_mode": {
    "name": "ipython",
    "version": 3
   },
   "file_extension": ".py",
   "mimetype": "text/x-python",
   "name": "python",
   "nbconvert_exporter": "python",
   "pygments_lexer": "ipython3",
   "version": "3.13.7"
  }
 },
 "nbformat": 4,
 "nbformat_minor": 5
}
